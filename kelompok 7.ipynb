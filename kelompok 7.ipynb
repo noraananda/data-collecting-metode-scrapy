{
 "cells": [
  {
   "cell_type": "code",
   "execution_count": 4,
   "metadata": {},
   "outputs": [
    {
     "name": "stdout",
     "output_type": "stream",
     "text": [
      "Error extracting data: 'NoneType' object has no attribute 'text'\n",
      "Data COVID-19:\n",
      "  Kasus Terkonfirmasi Kasus Sembuh Kasus Meninggal\n",
      "0                None         None            None\n"
     ]
    },
    {
     "data": {
      "text/html": [
       "<div>\n",
       "<style scoped>\n",
       "    .dataframe tbody tr th:only-of-type {\n",
       "        vertical-align: middle;\n",
       "    }\n",
       "\n",
       "    .dataframe tbody tr th {\n",
       "        vertical-align: top;\n",
       "    }\n",
       "\n",
       "    .dataframe thead th {\n",
       "        text-align: right;\n",
       "    }\n",
       "</style>\n",
       "<table border=\"1\" class=\"dataframe\">\n",
       "  <thead>\n",
       "    <tr style=\"text-align: right;\">\n",
       "      <th></th>\n",
       "      <th>Kasus Terkonfirmasi</th>\n",
       "      <th>Kasus Sembuh</th>\n",
       "      <th>Kasus Meninggal</th>\n",
       "    </tr>\n",
       "  </thead>\n",
       "  <tbody>\n",
       "    <tr>\n",
       "      <th>0</th>\n",
       "      <td>None</td>\n",
       "      <td>None</td>\n",
       "      <td>None</td>\n",
       "    </tr>\n",
       "  </tbody>\n",
       "</table>\n",
       "</div>"
      ],
      "text/plain": [
       "  Kasus Terkonfirmasi Kasus Sembuh Kasus Meninggal\n",
       "0                None         None            None"
      ]
     },
     "metadata": {},
     "output_type": "display_data"
    }
   ],
   "source": [
    "# Langkah 1: Impor pustaka yang diperlukan\n",
    "import requests\n",
    "from bs4 import BeautifulSoup\n",
    "import pandas as pd\n",
    "\n",
    "# Langkah 2: Fungsi untuk melakukan scraping data COVID-19 dari dashboard Kemkes\n",
    "def scrape_covid_dashboard():\n",
    "    url = 'https://dashboardcovid19.kemkes.go.id/'\n",
    "    response = requests.get(url)\n",
    "    \n",
    "    # Memeriksa status kode respons\n",
    "    if response.status_code != 200:\n",
    "        print(f'Status Kode: {response.status_code}')\n",
    "        return None\n",
    "    \n",
    "    # Memparsing HTML\n",
    "    soup = BeautifulSoup(response.text, 'html.parser')\n",
    "    \n",
    "    # Ekstraksi data (ini hanya contoh, sesuaikan dengan struktur HTML aktual)\n",
    "    data_kasus = {\n",
    "        'Kasus Terkonfirmasi': None,\n",
    "        'Kasus Sembuh': None,\n",
    "        'Kasus Meninggal': None,\n",
    "    }\n",
    "    \n",
    "    # Anda perlu menyesuaikan selector CSS sesuai dengan elemen di halaman tersebut\n",
    "    try:\n",
    "        data_kasus['Kasus Terkonfirmasi'] = soup.select_one('h3:contains(\"Kasus Terkonfirmasi\") + h3').text.strip()\n",
    "        data_kasus['Kasus Sembuh'] = soup.select_one('h3:contains(\"Kasus Sembuh\") + h3').text.strip()\n",
    "        data_kasus['Kasus Meninggal'] = soup.select_one('h3:contains(\"Kasus Meninggal\") + h3').text.strip()\n",
    "    except Exception as e:\n",
    "        print(f'Error extracting data: {e}')\n",
    "    \n",
    "    return data_kasus\n",
    "\n",
    "# Langkah 3: Jalankan fungsi scraping dan tampilkan data\n",
    "data_covid = scrape_covid_dashboard()\n",
    "\n",
    "# Langkah 4: Konversi data menjadi DataFrame dan tampilkan\n",
    "if data_covid:\n",
    "    df_covid = pd.DataFrame([data_covid])\n",
    "    \n",
    "    # Tampilkan DataFrame\n",
    "    print(\"Data COVID-19:\")\n",
    "    print(df_covid)\n",
    "\n",
    "    # Tampilkan DataFrame dalam format tabel\n",
    "    display(df_covid)  # Jika Anda menggunakan Jupyter Notebook, gunakan display() untuk menampilkan tabel\n"
   ]
  },
  {
   "cell_type": "code",
   "execution_count": null,
   "metadata": {},
   "outputs": [],
   "source": []
  }
 ],
 "metadata": {
  "kernelspec": {
   "display_name": "Python 3",
   "language": "python",
   "name": "python3"
  },
  "language_info": {
   "codemirror_mode": {
    "name": "ipython",
    "version": 3
   },
   "file_extension": ".py",
   "mimetype": "text/x-python",
   "name": "python",
   "nbconvert_exporter": "python",
   "pygments_lexer": "ipython3",
   "version": "3.7.6"
  }
 },
 "nbformat": 4,
 "nbformat_minor": 4
}
